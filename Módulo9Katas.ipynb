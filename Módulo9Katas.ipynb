{
  "cells": [
    {
      "cell_type": "markdown",
      "metadata": {},
      "source": [
        "# Ejercicio: Uso de funciones en Python"
      ]
    },
    {
      "cell_type": "markdown",
      "metadata": {},
      "source": [
        "### Ejercicio 1: Trabajar con argumentos en funciones\n",
        "\n",
        "Los argumentos requeridos en las funciones se utilizan cuando las funciones necesitan que esos argumentos funcionen correctamente. En este ejercicio, construirás un informe de combustible que requiere información de varias ubicaciones de combustible en todo el cohete.\n",
        "\n"
      ]
    },
    {
      "cell_type": "markdown",
      "metadata": {},
      "source": [
        "> **TIP**\n",
        "> Dedica unos minutos para tratar de encontrar una solución. Luego desplázate hacia abajo hasta la parte inferior para ver si has logrado compilar el programa de acuerdo con las especificaciones\n",
        "\n",
        "Comienza por crear una función que necesite tres lecturas de combustible y devuelva un informe:"
      ]
    },
    {
      "cell_type": "code",
      "execution_count": 61,
      "metadata": {},
      "outputs": [],
      "source": [
        "# Función para leer 3 tanques de combustible y muestre el promedio\n",
        "def generateTankReport (tankOne, tankTwo, tankThree):\n",
        "    average = (tankOne + tankTwo + tankThree) / 3\n",
        "    return f\"\"\"Report of the tanks:\n",
        "    Average: {average}%\n",
        "    Tank One: {tankOne}%\n",
        "    Tank Two: {tankTwo}%\n",
        "    Tank Three: {tankThree}% \n",
        "    \"\"\"\n"
      ]
    },
    {
      "cell_type": "markdown",
      "metadata": {},
      "source": [
        "Ahora que hemos definido la función de informes, vamos a comprobarlo. Para esta misión, los tanques no están llenos:"
      ]
    },
    {
      "cell_type": "code",
      "execution_count": 62,
      "metadata": {},
      "outputs": [
        {
          "name": "stdout",
          "output_type": "stream",
          "text": [
            "Report of the tanks:\n",
            "    Average: 49.333333333333336%\n",
            "    Tank One: 40%\n",
            "    Tank Two: 50%\n",
            "    Tank Three: 58% \n",
            "    \n"
          ]
        }
      ],
      "source": [
        "\n",
        "print(generateTankReport(40,50,58))"
      ]
    },
    {
      "cell_type": "markdown",
      "metadata": {},
      "source": [
        "En lugar de simplemente crear el informe, la función también está calculando el promedio. Mejora la legibilidad extrayendo el cálculo promedio de la función en una nueva función para que el promedio se pueda hacer de forma independiente:"
      ]
    },
    {
      "cell_type": "code",
      "execution_count": 63,
      "metadata": {},
      "outputs": [],
      "source": [
        "def calculateAverage(items):\n",
        "    total = sum(items)\n",
        "    itemsLength= len(items)\n",
        "    return total / itemsLength\n",
        "    "
      ]
    },
    {
      "cell_type": "markdown",
      "metadata": {},
      "source": [
        "Ahora actualiza la función de informes para llamando a la nueva función del promedio:\n"
      ]
    },
    {
      "cell_type": "code",
      "execution_count": 64,
      "metadata": {},
      "outputs": [
        {
          "name": "stdout",
          "output_type": "stream",
          "text": [
            "Report of the tanks:\n",
            "    Average: 49.333333333333336%\n",
            "    Tank One: 40%\n",
            "    Tank Two: 50%\n",
            "    Tank Three: 58% \n",
            "    \n"
          ]
        }
      ],
      "source": [
        "def generateTankReport (tankOne, tankTwo, tankThree):\n",
        "    average = calculateAverage([tankOne, tankTwo, tankThree])\n",
        "    return f\"\"\"Report of the tanks:\n",
        "    Average: {average}%\n",
        "    Tank One: {tankOne}%\n",
        "    Tank Two: {tankTwo}%\n",
        "    Tank Three: {tankThree}% \n",
        "    \"\"\"\n",
        "\n",
        "print(generateTankReport(40,50,58))"
      ]
    },
    {
      "cell_type": "markdown",
      "metadata": {},
      "source": [
        "> Recuerda: Lo importante es intentarlo, puedes auxiliarte de internet, libros, etc. El objetivo de una kata es la comprobación de la comprensión de la lección y su aplicación inmediata a la resolución de problemas. Go for it!"
      ]
    },
    {
      "cell_type": "markdown",
      "metadata": {},
      "source": [
        "## Ejercicio 2: Trabajo con argumentos de palabra clave"
      ]
    },
    {
      "cell_type": "markdown",
      "metadata": {},
      "source": [
        "### Ejercicio : Trabajar con argumentos de palabras clave en funciones\n",
        "En este ejercicio, construirás un informe de cohete que requiere varias piezas de información, como el tiempo hasta el destino, el combustible a la izquierda y el nombre del destino. Comienza por crear una función que creará un informe preciso de la misión:"
      ]
    },
    {
      "cell_type": "code",
      "execution_count": 65,
      "metadata": {},
      "outputs": [
        {
          "name": "stdout",
          "output_type": "stream",
          "text": [
            "\n",
            "    Mission: Mars\n",
            "    Travel time: 79 minutes\n",
            "    Fuel available: 850000\n",
            "    \n"
          ]
        }
      ],
      "source": [
        "# Función con un informe preciso de la misión. Considera hora de prelanzamiento, tiempo de vuelo, destino, tanque externo y tanque interno\n",
        "def missionReport(preLaunchHour, flightTime, destination, externalTank, internalTank):\n",
        "    return f\"\"\"\n",
        "    Mission: {destination}\n",
        "    Travel time: {preLaunchHour + flightTime} minutes\n",
        "    Fuel available: {externalTank + internalTank}\n",
        "    \"\"\"\n",
        "\n",
        "print(missionReport(34, 45, \"Mars\", 350000, 500000))"
      ]
    },
    {
      "cell_type": "markdown",
      "metadata": {},
      "source": [
        "La función es problemática porque no se puede adaptar para minutos adicionales o tanques adicionales de combustible. Hazlo más flexible permitiendo cualquier número de pasos basados en el tiempo y cualquier número de tanques. En lugar de usar `*args` y `**kwargs`, aprovecha el hecho de que puedes usar cualquier nombre que desees. Asegurate que la función sea más legible mediante el uso de nombres de variables que están asociados con las entradas, como `*minutes` y `**fuel_reservoirs`:"
      ]
    },
    {
      "cell_type": "code",
      "execution_count": 66,
      "metadata": {},
      "outputs": [
        {
          "name": "stdout",
          "output_type": "stream",
          "text": [
            "\n",
            "    Mission: Mars\n",
            "    Travel time: 68 minutes\n",
            "    Fuel available: 850000\n",
            "    \n"
          ]
        }
      ],
      "source": [
        "# Escribe tu nueva función de reporte considerando lo anterior\n",
        "def missionReport( destination, *minutes, **fuel):\n",
        "    return f\"\"\"\n",
        "    Mission: {destination}\n",
        "    Travel time: {sum(minutes)} minutes\n",
        "    Fuel available: {sum(fuel.values())}\n",
        "    \"\"\"\n",
        "\n",
        "print(missionReport(\"Mars\", 34, 12, 22, internal=500000, external=350000))"
      ]
    },
    {
      "cell_type": "markdown",
      "metadata": {},
      "source": [
        "Debido a que el combustible que queda en los tanques es específico de cada tanque, actualiza la función para usar el nombre de cada tanque en el informe:"
      ]
    },
    {
      "cell_type": "code",
      "execution_count": 67,
      "metadata": {},
      "outputs": [
        {
          "name": "stdout",
          "output_type": "stream",
          "text": [
            "\n",
            "    Mission: Mars\n",
            "    Travel time: 68 minutes\n",
            "    Fuel available: 850000\n",
            "    internal tank: 500000 gallons available\n",
            "external tank: 350000 gallons available\n",
            "\n"
          ]
        }
      ],
      "source": [
        "# Escribe tu nueva función\n",
        "def missionReport( destination, *minutes, **fuel):\n",
        "    report =  f\"\"\"\n",
        "    Mission: {destination}\n",
        "    Travel time: {sum(minutes)} minutes\n",
        "    Fuel available: {sum(fuel.values())}\n",
        "    \"\"\"\n",
        "    for tankName, gallons in fuel.items():\n",
        "        report += f\"{tankName} tank: {gallons} gallons available\\n\"\n",
        "    return report\n",
        "print(missionReport(\"Mars\", 34, 12, 22, internal=500000, external=350000))"
      ]
    }
  ],
  "metadata": {
    "interpreter": {
      "hash": "205095b8b86ea82a021a8fc2ffba2b3bc9f8d0be25999901963b225939f75778"
    },
    "kernelspec": {
      "display_name": "Python 3.8.10 64-bit ('tmp': conda)",
      "name": "python3"
    },
    "language_info": {
      "codemirror_mode": {
        "name": "ipython",
        "version": 3
      },
      "file_extension": ".py",
      "mimetype": "text/x-python",
      "name": "python",
      "nbconvert_exporter": "python",
      "pygments_lexer": "ipython3",
      "version": "3.10.2"
    },
    "nteract": {
      "version": "nteract-front-end@1.0.0"
    },
    "orig_nbformat": 4
  },
  "nbformat": 4,
  "nbformat_minor": 2
}
